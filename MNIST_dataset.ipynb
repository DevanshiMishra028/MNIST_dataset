{
  "nbformat": 4,
  "nbformat_minor": 0,
  "metadata": {
    "colab": {
      "name": "MNIST_dataset.ipynb",
      "provenance": [],
      "collapsed_sections": [],
      "authorship_tag": "ABX9TyNZZjxLPiMsdc6QZSXZu13v",
      "include_colab_link": true
    },
    "kernelspec": {
      "name": "python3",
      "display_name": "Python 3"
    },
    "accelerator": "GPU"
  },
  "cells": [
    {
      "cell_type": "markdown",
      "metadata": {
        "id": "view-in-github",
        "colab_type": "text"
      },
      "source": [
        "<a href=\"https://colab.research.google.com/github/DevanshiMishra028/MNIST_dataset/blob/main/MNIST_dataset.ipynb\" target=\"_parent\"><img src=\"https://colab.research.google.com/assets/colab-badge.svg\" alt=\"Open In Colab\"/></a>"
      ]
    },
    {
      "cell_type": "code",
      "metadata": {
        "id": "goW8PgAh38uV"
      },
      "source": [
        "import tensorflow as tf"
      ],
      "execution_count": null,
      "outputs": []
    },
    {
      "cell_type": "code",
      "metadata": {
        "colab": {
          "base_uri": "https://localhost:8080/"
        },
        "id": "xvuY70t7bwnA",
        "outputId": "66428971-06cc-4b26-c003-15a7a195ecd6"
      },
      "source": [
        "tf.config.list_physical_devices('GPU')"
      ],
      "execution_count": null,
      "outputs": [
        {
          "output_type": "execute_result",
          "data": {
            "text/plain": [
              "[PhysicalDevice(name='/physical_device:GPU:0', device_type='GPU')]"
            ]
          },
          "metadata": {
            "tags": []
          },
          "execution_count": 3
        }
      ]
    },
    {
      "cell_type": "code",
      "metadata": {
        "colab": {
          "base_uri": "https://localhost:8080/"
        },
        "id": "ZBu9vLzrb-vl",
        "outputId": "5265b1f4-bb37-40c6-9eee-d7ca8382f2e0"
      },
      "source": [
        "tf.config.list_physical_devices('CPU')"
      ],
      "execution_count": null,
      "outputs": [
        {
          "output_type": "execute_result",
          "data": {
            "text/plain": [
              "[PhysicalDevice(name='/physical_device:CPU:0', device_type='CPU')]"
            ]
          },
          "metadata": {
            "tags": []
          },
          "execution_count": 4
        }
      ]
    },
    {
      "cell_type": "code",
      "metadata": {
        "colab": {
          "base_uri": "https://localhost:8080/"
        },
        "id": "59Z-qBj-cPKo",
        "outputId": "3d966eb1-0f5f-4f04-a841-d5b5dba28f95"
      },
      "source": [
        "checkpoint=['GPU','CPU']\r\n",
        "for device in checkpoint:\r\n",
        "  out_=tf.config.list_physical_devices(device)\r\n",
        "  if len(out_)>0:\r\n",
        "    print(f\"{device} is available\")\r\n",
        "    print(f\"details\\n\",out_)\r\n",
        "  else:\r\n",
        "    print(f\"{device} is not available\")"
      ],
      "execution_count": null,
      "outputs": [
        {
          "output_type": "stream",
          "text": [
            "GPU is available\n",
            "details\n",
            " [PhysicalDevice(name='/physical_device:GPU:0', device_type='GPU')]\n",
            "CPU is available\n",
            "details\n",
            " [PhysicalDevice(name='/physical_device:CPU:0', device_type='CPU')]\n"
          ],
          "name": "stdout"
        }
      ]
    },
    {
      "cell_type": "code",
      "metadata": {
        "id": "m8DEu2aHdctT"
      },
      "source": [
        "import tensorflow as tf\r\n",
        "import numpy as np\r\n",
        "import matplotlib.pyplot as plt\r\n",
        "import seaborn as sns\r\n",
        "import pandas as pd\r\n",
        "import os"
      ],
      "execution_count": null,
      "outputs": []
    },
    {
      "cell_type": "code",
      "metadata": {
        "id": "bvY5nCvReDsy",
        "colab": {
          "base_uri": "https://localhost:8080/"
        },
        "outputId": "3c99c9e0-03de-4d19-a01a-b9b1af73839f"
      },
      "source": [
        "mnist=tf.keras.datasets.mnist\r\n",
        "(x_train,y_train),(x_test,y_test)=mnist.load_data()"
      ],
      "execution_count": null,
      "outputs": [
        {
          "output_type": "stream",
          "text": [
            "Downloading data from https://storage.googleapis.com/tensorflow/tf-keras-datasets/mnist.npz\n",
            "11493376/11490434 [==============================] - 0s 0us/step\n"
          ],
          "name": "stdout"
        }
      ]
    },
    {
      "cell_type": "code",
      "metadata": {
        "colab": {
          "base_uri": "https://localhost:8080/"
        },
        "id": "ssQSwqvme3TP",
        "outputId": "0e95bb9e-7fa6-41e5-ac87-101daa2f6823"
      },
      "source": [
        "x_train[5000]"
      ],
      "execution_count": null,
      "outputs": [
        {
          "output_type": "execute_result",
          "data": {
            "text/plain": [
              "array([[  0,   0,   0,   0,   0,   0,   0,   0,   0,   0,   0,   0,   0,\n",
              "          0,   0,   0,   0,   0,   0,   0,   0,   0,   0,   0,   0,   0,\n",
              "          0,   0],\n",
              "       [  0,   0,   0,   0,   0,   0,   0,   0,   0,   0,   0,   0,   0,\n",
              "          0,   0,   0,   0,   0,   0,   0,   0,   0,   0,   0,   0,   0,\n",
              "          0,   0],\n",
              "       [  0,   0,   0,   0,   0,   0,   0,   0,   0,   0,   0,   0,   0,\n",
              "          0,   0,   0,   0,   0,   0,   0,   0,   0,   0,   0,   0,   0,\n",
              "          0,   0],\n",
              "       [  0,   0,   0,   0,   0,   0,   0,   0,   0,   0,   0,   0,   0,\n",
              "          0,   0,   0,   0,   0,   0,   0,   0,   0,   0,   0,   0,   0,\n",
              "          0,   0],\n",
              "       [  0,   0,   0,   0,   0,   0,   0,   0,   0,   0,   0,   0,   0,\n",
              "          0,   0,   0,   0,   0,   0,   0,   0,   0,   0,   0,   0,   0,\n",
              "          0,   0],\n",
              "       [  0,   0,   0,   0,   0,   0,   0,   0,   0,   0,   0,   0,   0,\n",
              "          0,   0,   0,   0,   0,   0,   0,   0,   0,   0,   0,   0,   0,\n",
              "          0,   0],\n",
              "       [  0,   0,   0,   0,   0,   0,   0,   0,   0,   0,   0,   0,   0,\n",
              "          0,   0,   0,   0,   0,   0,   0,   0,   0,   0,   0,   0,   0,\n",
              "          0,   0],\n",
              "       [  0,   0,   0,   0,   0,   0,   0,   0,   0,   0,   0,  97,  96,\n",
              "         77, 118,  61,   0,   0,   0,   0,   0,   0,   0,   0,   0,   0,\n",
              "          0,   0],\n",
              "       [  0,   0,   0,  90, 138, 235, 235, 235, 235, 235, 235, 251, 251,\n",
              "        248, 254, 245, 235, 190,  21,   0,   0,   0,   0,   0,   0,   0,\n",
              "          0,   0],\n",
              "       [  0,   0, 140, 251, 254, 254, 254, 254, 254, 254, 254, 254, 254,\n",
              "        254, 254, 254, 254, 254, 189,  23,   0,   0,   0,   0,   0,   0,\n",
              "          0,   0],\n",
              "       [  0,   0, 226, 254, 208, 199, 199, 199, 199, 139,  61,  61,  61,\n",
              "         61,  61, 128, 222, 254, 254, 189,  21,   0,   0,   0,   0,   0,\n",
              "          0,   0],\n",
              "       [  0,   0,  38,  82,  13,   0,   0,   0,   0,   0,   0,   0,   0,\n",
              "          0,   0,   0,  34, 213, 254, 254, 115,   0,   0,   0,   0,   0,\n",
              "          0,   0],\n",
              "       [  0,   0,   0,   0,   0,   0,   0,   0,   0,   0,   0,   0,   0,\n",
              "          0,   0,   0,   0,  84, 254, 254, 234,   0,   0,   0,   0,   0,\n",
              "          0,   0],\n",
              "       [  0,   0,   0,   0,   0,   0,   0,   0,   0,   0,   0,   0,   0,\n",
              "          0,   0,   0,   0,  84, 254, 254, 234,   0,   0,   0,   0,   0,\n",
              "          0,   0],\n",
              "       [  0,   0,   0,   0,   0,   0,   0,   0,   0,   0,   0,   0,   0,\n",
              "          0,   0,   0, 106, 157, 254, 254, 243,  51,   0,   0,   0,   0,\n",
              "          0,   0],\n",
              "       [  0,   0,   0,   0,   0,   0,   0,   0,   0,   0,   0,  25, 117,\n",
              "        228, 228, 228, 253, 254, 254, 254, 254, 240,   0,   0,   0,   0,\n",
              "          0,   0],\n",
              "       [  0,   0,   0,   0,   0,   0,   0,   0,   0,  68, 119, 220, 254,\n",
              "        254, 254, 254, 254, 254, 254, 254, 254, 142,   0,   0,   0,   0,\n",
              "          0,   0],\n",
              "       [  0,   0,   0,   0,   0,   0,   0,  37, 187, 253, 254, 254, 254,\n",
              "        223, 206, 206,  75,  68, 215, 254, 254, 117,   0,   0,   0,   0,\n",
              "          0,   0],\n",
              "       [  0,   0,   0,   0,   0,   0, 113, 219, 254, 242, 227, 115,  89,\n",
              "         31,   0,   0,   0,   0, 200, 254, 241,  41,   0,   0,   0,   0,\n",
              "          0,   0],\n",
              "       [  0,   0,   0,   0,   0,   0, 169, 254, 176,  62,   0,   0,   0,\n",
              "          0,   0,   0,   0,  48, 231, 254, 234,   0,   0,   0,   0,   0,\n",
              "          0,   0],\n",
              "       [  0,   0,   0,   0,   0,   0,  18, 124,   0,   0,   0,   0,   0,\n",
              "          0,   0,   0,   0,  84, 254, 254, 166,   0,   0,   0,   0,   0,\n",
              "          0,   0],\n",
              "       [  0,   0,   0,   0,   0,   0,   0,   0,   0,   0,   0,   0,   0,\n",
              "          0,   0,   0,   0, 139, 254, 238,  57,   0,   0,   0,   0,   0,\n",
              "          0,   0],\n",
              "       [  0,   0,   0,   0,   0,   0,   0,   0,   0,   0,   0,   0,   0,\n",
              "          0,   0,   0, 210, 250, 254, 168,   0,   0,   0,   0,   0,   0,\n",
              "          0,   0],\n",
              "       [  0,   0,   0,   0,   0,   0,   0,   0,   0,   0,   0,   0,   0,\n",
              "          0,   0,   0, 242, 254, 239,  57,   0,   0,   0,   0,   0,   0,\n",
              "          0,   0],\n",
              "       [  0,   0,   0,   0,   0,   0,   0,   0,   0,   0,   0,   0,   0,\n",
              "          0,   0,  89, 251, 241,  86,   0,   0,   0,   0,   0,   0,   0,\n",
              "          0,   0],\n",
              "       [  0,   0,   0,   0,   0,   0,   0,   0,   0,   0,   0,   0,   0,\n",
              "          0,   5, 206, 246, 157,   0,   0,   0,   0,   0,   0,   0,   0,\n",
              "          0,   0],\n",
              "       [  0,   0,   0,   0,   0,   0,   0,   0,   0,   0,   0,   0,   0,\n",
              "          0,   4, 117,  69,   0,   0,   0,   0,   0,   0,   0,   0,   0,\n",
              "          0,   0],\n",
              "       [  0,   0,   0,   0,   0,   0,   0,   0,   0,   0,   0,   0,   0,\n",
              "          0,   0,   0,   0,   0,   0,   0,   0,   0,   0,   0,   0,   0,\n",
              "          0,   0]], dtype=uint8)"
            ]
          },
          "metadata": {
            "tags": []
          },
          "execution_count": 8
        }
      ]
    },
    {
      "cell_type": "code",
      "metadata": {
        "colab": {
          "base_uri": "https://localhost:8080/"
        },
        "id": "s5aw4085fUb1",
        "outputId": "bfa7e66f-138a-4207-aec5-d02419381546"
      },
      "source": [
        "print(f\"the datatype of x_train:{x_train.dtype}\\nthe shape of x_train:{x_train.shape}\")"
      ],
      "execution_count": null,
      "outputs": [
        {
          "output_type": "stream",
          "text": [
            "the datatype of x_train:uint8\n",
            "the shape of x_train:(60000, 28, 28)\n"
          ],
          "name": "stdout"
        }
      ]
    },
    {
      "cell_type": "markdown",
      "metadata": {
        "id": "R_eebhSJgs51"
      },
      "source": [
        "### NORMALIZATION OF DATASET & CREATING VALIDATION SET"
      ]
    },
    {
      "cell_type": "code",
      "metadata": {
        "id": "zouWUUeGgsOK"
      },
      "source": [
        "x_valid,x_train=x_train[:5000]/255,x_train[5000:]/255\r\n",
        "y_valid,y_train=y_train[:5000],y_train[5000:]\r\n",
        "\r\n",
        "x_test=x_test/255"
      ],
      "execution_count": null,
      "outputs": []
    },
    {
      "cell_type": "markdown",
      "metadata": {
        "id": "--M6pRNpjn9F"
      },
      "source": [
        "### VISUALIZING THE DATA POINTS"
      ]
    },
    {
      "cell_type": "code",
      "metadata": {
        "colab": {
          "base_uri": "https://localhost:8080/",
          "height": 248
        },
        "id": "RHg4MOKzgitA",
        "outputId": "d8fc23cd-a8cf-4c24-ae0e-3167f94804c4"
      },
      "source": [
        "plt.imshow(x_train[5000],cmap='binary')\r\n",
        "plt.axis(\"off\")\r\n",
        "plt.show()"
      ],
      "execution_count": null,
      "outputs": [
        {
          "output_type": "display_data",
          "data": {
            "image/png": "[encoded data removed]",
            "text/plain": [
              "<Figure size 432x288 with 1 Axes>"
            ]
          },
          "metadata": {
            "tags": [],
            "needs_background": "light"
          }
        }
      ]
    },
    {
      "cell_type": "markdown",
      "metadata": {
        "id": "QywXM9uqgZv1"
      },
      "source": [
        "### TO VISUALIZE THE DATASET with array representation"
      ]
    },
    {
      "cell_type": "code",
      "metadata": {
        "colab": {
          "base_uri": "https://localhost:8080/",
          "height": 884
        },
        "id": "kfgq4OhGgVb3",
        "outputId": "d1bb78a9-91c3-419c-cc7a-b6f285c875da"
      },
      "source": [
        "plt.figure(figsize=(15,15)) #here,figsize doesn't refers to pixels value,just the size of img\r\n",
        "sns.heatmap(x_train[9000],annot=True,cmap='binary')"
      ],
      "execution_count": null,
      "outputs": [
        {
          "output_type": "execute_result",
          "data": {
            "text/plain": [
              "<matplotlib.axes._subplots.AxesSubplot at 0x7f0ca9e69550>"
            ]
          },
          "metadata": {
            "tags": []
          },
          "execution_count": 12
        },
        {
          "output_type": "display_data",
          "data": {
            "image/png": "[encoded data removed]",
            "text/plain": [
              "<Figure size 1080x1080 with 2 Axes>"
            ]
          },
          "metadata": {
            "tags": [],
            "needs_background": "light"
          }
        }
      ]
    },
    {
      "cell_type": "code",
      "metadata": {
        "id": "fB7xwJNLkQFz"
      },
      "source": [
        "Layers=[tf.keras.layers.Flatten(input_shape=[28,28],name=\"input_layer\"),\r\n",
        "        tf.keras.layers.Dense(300,activation='relu',name=\"H1\"),\r\n",
        "        tf.keras.layers.Dense(300,activation='relu',name='H2'),\r\n",
        "        tf.keras.layers.Dense(100,activation='relu',name='H3'),\r\n",
        "        tf.keras.layers.Dense(10,activation='softmax',name=\"output\")]\r\n",
        "\r\n",
        "\r\n",
        "model_clf=tf.keras.models.Sequential(Layers)"
      ],
      "execution_count": null,
      "outputs": []
    },
    {
      "cell_type": "code",
      "metadata": {
        "colab": {
          "base_uri": "https://localhost:8080/"
        },
        "id": "Q57iNBeBq7BJ",
        "outputId": "e22cd8a4-d000-4c6f-a14a-3b1b7f573eee"
      },
      "source": [
        "model_clf.layers"
      ],
      "execution_count": null,
      "outputs": [
        {
          "output_type": "execute_result",
          "data": {
            "text/plain": [
              "[<tensorflow.python.keras.layers.core.Flatten at 0x7f0caaac2e10>,\n",
              " <tensorflow.python.keras.layers.core.Dense at 0x7f0caaa98d68>,\n",
              " <tensorflow.python.keras.layers.core.Dense at 0x7f0ca6b3d198>,\n",
              " <tensorflow.python.keras.layers.core.Dense at 0x7f0ca6b3d438>,\n",
              " <tensorflow.python.keras.layers.core.Dense at 0x7f0caaa98be0>]"
            ]
          },
          "metadata": {
            "tags": []
          },
          "execution_count": 14
        }
      ]
    },
    {
      "cell_type": "code",
      "metadata": {
        "colab": {
          "base_uri": "https://localhost:8080/"
        },
        "id": "cxSsfnbMtt5m",
        "outputId": "f3d9fe30-49c7-4c30-83d0-0d52df7c097e"
      },
      "source": [
        "model_clf.summary()"
      ],
      "execution_count": null,
      "outputs": [
        {
          "output_type": "stream",
          "text": [
            "Model: \"sequential\"\n",
            "_________________________________________________________________\n",
            "Layer (type)                 Output Shape              Param #   \n",
            "=================================================================\n",
            "input_layer (Flatten)        (None, 784)               0         \n",
            "_________________________________________________________________\n",
            "H1 (Dense)                   (None, 300)               235500    \n",
            "_________________________________________________________________\n",
            "H2 (Dense)                   (None, 300)               90300     \n",
            "_________________________________________________________________\n",
            "H3 (Dense)                   (None, 100)               30100     \n",
            "_________________________________________________________________\n",
            "output (Dense)               (None, 10)                1010      \n",
            "=================================================================\n",
            "Total params: 356,910\n",
            "Trainable params: 356,910\n",
            "Non-trainable params: 0\n",
            "_________________________________________________________________\n"
          ],
          "name": "stdout"
        }
      ]
    },
    {
      "cell_type": "markdown",
      "metadata": {
        "id": "7tl67kp90FWa"
      },
      "source": [
        "##### b/w ip layer and h1 no of trainable parametre means :\r\n",
        "####     sum of (no. of inputs from previous layers*no.of nuerons in next layer +no. bias is next layer )"
      ]
    },
    {
      "cell_type": "code",
      "metadata": {
        "colab": {
          "base_uri": "https://localhost:8080/",
          "height": 35
        },
        "id": "nq25jlbrtxD9",
        "outputId": "9f37dcb8-df25-49d5-a3bf-3320bd40acee"
      },
      "source": [
        "l1=model_clf.layers[0]\r\n",
        "l1.name"
      ],
      "execution_count": null,
      "outputs": [
        {
          "output_type": "execute_result",
          "data": {
            "application/vnd.google.colaboratory.intrinsic+json": {
              "type": "string"
            },
            "text/plain": [
              "'input_layer'"
            ]
          },
          "metadata": {
            "tags": []
          },
          "execution_count": 16
        }
      ]
    },
    {
      "cell_type": "code",
      "metadata": {
        "colab": {
          "base_uri": "https://localhost:8080/",
          "height": 35
        },
        "id": "4ueaSaOPwM_q",
        "outputId": "69e3a4b6-45a9-447a-c6e7-ae1808bbe579"
      },
      "source": [
        "l2=model_clf.layers[1]\r\n",
        "l2.name"
      ],
      "execution_count": null,
      "outputs": [
        {
          "output_type": "execute_result",
          "data": {
            "application/vnd.google.colaboratory.intrinsic+json": {
              "type": "string"
            },
            "text/plain": [
              "'H1'"
            ]
          },
          "metadata": {
            "tags": []
          },
          "execution_count": 17
        }
      ]
    },
    {
      "cell_type": "code",
      "metadata": {
        "colab": {
          "base_uri": "https://localhost:8080/"
        },
        "id": "igU6RAg2wOiw",
        "outputId": "9330e4f4-bbd9-43a0-97a0-2e4b26eb2f10"
      },
      "source": [
        "model_clf.get_layer(l2.name) is l2"
      ],
      "execution_count": null,
      "outputs": [
        {
          "output_type": "execute_result",
          "data": {
            "text/plain": [
              "True"
            ]
          },
          "metadata": {
            "tags": []
          },
          "execution_count": 18
        }
      ]
    },
    {
      "cell_type": "code",
      "metadata": {
        "id": "FiVgN9TtxFDY"
      },
      "source": [
        "Loss=\"sparse_categorical_crossentropy\"\r\n",
        "Optimizer=\"SGD\"\r\n",
        "Metrics=[\"accuracy\"]\r\n",
        "\r\n",
        "model_clf.compile(loss=Loss,optimizer=Optimizer,metrics=Metrics)\r\n",
        "\r\n",
        "#model_clf.compile(loss=tf.losses.sparse_categorical_crossentropy,optimizer=tf.keras.optimizers.SGD(0.2),metics=[\"accuracy\"])"
      ],
      "execution_count": null,
      "outputs": []
    },
    {
      "cell_type": "code",
      "metadata": {
        "colab": {
          "base_uri": "https://localhost:8080/"
        },
        "id": "uwTAuAVP1hEF",
        "outputId": "9315d1cc-6210-42b8-dcac-ff0530d351af"
      },
      "source": [
        "Epochs=30\r\n",
        "Validation_set=(x_valid,y_valid)\r\n",
        "history=model_clf.fit(x_train,y_train,epochs=Epochs,validation_data=Validation_set)"
      ],
      "execution_count": null,
      "outputs": [
        {
          "output_type": "stream",
          "text": [
            "Epoch 1/30\n",
            "1719/1719 [==============================] - 4s 2ms/step - loss: 0.6094 - accuracy: 0.8387 - val_loss: 0.2795 - val_accuracy: 0.9228\n",
            "Epoch 2/30\n",
            "1719/1719 [==============================] - 4s 2ms/step - loss: 0.2588 - accuracy: 0.9244 - val_loss: 0.2147 - val_accuracy: 0.9408\n",
            "Epoch 3/30\n",
            "1719/1719 [==============================] - 4s 2ms/step - loss: 0.2026 - accuracy: 0.9411 - val_loss: 0.1709 - val_accuracy: 0.9492\n",
            "Epoch 4/30\n",
            "1719/1719 [==============================] - 4s 2ms/step - loss: 0.1674 - accuracy: 0.9510 - val_loss: 0.1449 - val_accuracy: 0.9576\n",
            "Epoch 5/30\n",
            "1719/1719 [==============================] - 4s 2ms/step - loss: 0.1421 - accuracy: 0.9585 - val_loss: 0.1322 - val_accuracy: 0.9614\n",
            "Epoch 6/30\n",
            "1719/1719 [==============================] - 4s 2ms/step - loss: 0.1232 - accuracy: 0.9643 - val_loss: 0.1186 - val_accuracy: 0.9642\n",
            "Epoch 7/30\n",
            "1719/1719 [==============================] - 4s 2ms/step - loss: 0.1080 - accuracy: 0.9687 - val_loss: 0.1200 - val_accuracy: 0.9658\n",
            "Epoch 8/30\n",
            "1719/1719 [==============================] - 4s 2ms/step - loss: 0.0955 - accuracy: 0.9727 - val_loss: 0.1022 - val_accuracy: 0.9710\n",
            "Epoch 9/30\n",
            "1719/1719 [==============================] - 4s 2ms/step - loss: 0.0850 - accuracy: 0.9754 - val_loss: 0.0990 - val_accuracy: 0.9708\n",
            "Epoch 10/30\n",
            "1719/1719 [==============================] - 4s 2ms/step - loss: 0.0765 - accuracy: 0.9780 - val_loss: 0.0930 - val_accuracy: 0.9734\n",
            "Epoch 11/30\n",
            "1719/1719 [==============================] - 4s 2ms/step - loss: 0.0690 - accuracy: 0.9799 - val_loss: 0.0997 - val_accuracy: 0.9706\n",
            "Epoch 12/30\n",
            "1719/1719 [==============================] - 4s 2ms/step - loss: 0.0628 - accuracy: 0.9824 - val_loss: 0.0821 - val_accuracy: 0.9742\n",
            "Epoch 13/30\n",
            "1719/1719 [==============================] - 4s 3ms/step - loss: 0.0566 - accuracy: 0.9839 - val_loss: 0.0848 - val_accuracy: 0.9736\n",
            "Epoch 14/30\n",
            "1719/1719 [==============================] - 4s 2ms/step - loss: 0.0515 - accuracy: 0.9856 - val_loss: 0.0815 - val_accuracy: 0.9746\n",
            "Epoch 15/30\n",
            "1719/1719 [==============================] - 4s 2ms/step - loss: 0.0465 - accuracy: 0.9873 - val_loss: 0.0777 - val_accuracy: 0.9746\n",
            "Epoch 16/30\n",
            "1719/1719 [==============================] - 4s 2ms/step - loss: 0.0421 - accuracy: 0.9885 - val_loss: 0.0792 - val_accuracy: 0.9778\n",
            "Epoch 17/30\n",
            "1719/1719 [==============================] - 4s 2ms/step - loss: 0.0384 - accuracy: 0.9898 - val_loss: 0.0760 - val_accuracy: 0.9758\n",
            "Epoch 18/30\n",
            "1719/1719 [==============================] - 4s 2ms/step - loss: 0.0343 - accuracy: 0.9911 - val_loss: 0.0717 - val_accuracy: 0.9794\n",
            "Epoch 19/30\n",
            "1719/1719 [==============================] - 4s 2ms/step - loss: 0.0317 - accuracy: 0.9915 - val_loss: 0.0739 - val_accuracy: 0.9784\n",
            "Epoch 20/30\n",
            "1719/1719 [==============================] - 4s 2ms/step - loss: 0.0287 - accuracy: 0.9928 - val_loss: 0.0726 - val_accuracy: 0.9776\n",
            "Epoch 21/30\n",
            "1719/1719 [==============================] - 4s 2ms/step - loss: 0.0262 - accuracy: 0.9937 - val_loss: 0.0734 - val_accuracy: 0.9784\n",
            "Epoch 22/30\n",
            "1719/1719 [==============================] - 4s 2ms/step - loss: 0.0235 - accuracy: 0.9947 - val_loss: 0.0714 - val_accuracy: 0.9796\n",
            "Epoch 23/30\n",
            "1719/1719 [==============================] - 4s 2ms/step - loss: 0.0213 - accuracy: 0.9954 - val_loss: 0.0701 - val_accuracy: 0.9798\n",
            "Epoch 24/30\n",
            "1719/1719 [==============================] - 4s 2ms/step - loss: 0.0194 - accuracy: 0.9959 - val_loss: 0.0720 - val_accuracy: 0.9804\n",
            "Epoch 25/30\n",
            "1719/1719 [==============================] - 4s 2ms/step - loss: 0.0178 - accuracy: 0.9965 - val_loss: 0.0697 - val_accuracy: 0.9800\n",
            "Epoch 26/30\n",
            "1719/1719 [==============================] - 4s 2ms/step - loss: 0.0158 - accuracy: 0.9971 - val_loss: 0.0707 - val_accuracy: 0.9806\n",
            "Epoch 27/30\n",
            "1719/1719 [==============================] - 4s 2ms/step - loss: 0.0146 - accuracy: 0.9976 - val_loss: 0.0696 - val_accuracy: 0.9804\n",
            "Epoch 28/30\n",
            "1719/1719 [==============================] - 4s 2ms/step - loss: 0.0132 - accuracy: 0.9978 - val_loss: 0.0724 - val_accuracy: 0.9800\n",
            "Epoch 29/30\n",
            "1719/1719 [==============================] - 4s 2ms/step - loss: 0.0118 - accuracy: 0.9983 - val_loss: 0.0740 - val_accuracy: 0.9796\n",
            "Epoch 30/30\n",
            "1719/1719 [==============================] - 4s 2ms/step - loss: 0.0110 - accuracy: 0.9985 - val_loss: 0.0718 - val_accuracy: 0.9816\n"
          ],
          "name": "stdout"
        }
      ]
    },
    {
      "cell_type": "code",
      "metadata": {
        "colab": {
          "base_uri": "https://localhost:8080/"
        },
        "id": "XPiXmxntWNxz",
        "outputId": "f37aa2fc-28aa-45ca-d39c-6f7b9180f295"
      },
      "source": [
        "#unique_path=model_clf.save(save_path())\r\n",
        "unique_path=model_clf.save(\"Model_mnist\")"
      ],
      "execution_count": null,
      "outputs": [
        {
          "output_type": "stream",
          "text": [
            "WARNING:tensorflow:From /usr/local/lib/python3.6/dist-packages/tensorflow/python/training/tracking/tracking.py:111: Model.state_updates (from tensorflow.python.keras.engine.training) is deprecated and will be removed in a future version.\n",
            "Instructions for updating:\n",
            "This property should not be used in TensorFlow 2.0, as updates are applied automatically.\n",
            "WARNING:tensorflow:From /usr/local/lib/python3.6/dist-packages/tensorflow/python/training/tracking/tracking.py:111: Layer.updates (from tensorflow.python.keras.engine.base_layer) is deprecated and will be removed in a future version.\n",
            "Instructions for updating:\n",
            "This property should not be used in TensorFlow 2.0, as updates are applied automatically.\n",
            "INFO:tensorflow:Assets written to: Model_mnist/assets\n"
          ],
          "name": "stdout"
        }
      ]
    },
    {
      "cell_type": "code",
      "metadata": {
        "colab": {
          "base_uri": "https://localhost:8080/"
        },
        "id": "cUJOHgIVWuDW",
        "outputId": "9c6aa4de-96c9-498d-b334-b93fb7976720"
      },
      "source": [
        "history.params"
      ],
      "execution_count": null,
      "outputs": [
        {
          "output_type": "execute_result",
          "data": {
            "text/plain": [
              "{'epochs': 30, 'steps': 1719, 'verbose': 1}"
            ]
          },
          "metadata": {
            "tags": []
          },
          "execution_count": 23
        }
      ]
    },
    {
      "cell_type": "code",
      "metadata": {
        "id": "7WUkOLzPfsmd"
      },
      "source": [
        "tab=pd.DataFrame(history.history)"
      ],
      "execution_count": null,
      "outputs": []
    },
    {
      "cell_type": "code",
      "metadata": {
        "colab": {
          "base_uri": "https://localhost:8080/",
          "height": 979
        },
        "id": "SEeQqRjJgDy8",
        "outputId": "d1a02cdf-097c-4a1c-de72-7202cc238cef"
      },
      "source": [
        "tab"
      ],
      "execution_count": null,
      "outputs": [
        {
          "output_type": "execute_result",
          "data": {
            "text/html": [
              "<div>\n",
              "<style scoped>\n",
              "    .dataframe tbody tr th:only-of-type {\n",
              "        vertical-align: middle;\n",
              "    }\n",
              "\n",
              "    .dataframe tbody tr th {\n",
              "        vertical-align: top;\n",
              "    }\n",
              "\n",
              "    .dataframe thead th {\n",
              "        text-align: right;\n",
              "    }\n",
              "</style>\n",
              "<table border=\"1\" class=\"dataframe\">\n",
              "  <thead>\n",
              "    <tr style=\"text-align: right;\">\n",
              "      <th></th>\n",
              "      <th>loss</th>\n",
              "      <th>accuracy</th>\n",
              "      <th>val_loss</th>\n",
              "      <th>val_accuracy</th>\n",
              "    </tr>\n",
              "  </thead>\n",
              "  <tbody>\n",
              "    <tr>\n",
              "      <th>0</th>\n",
              "      <td>0.614263</td>\n",
              "      <td>0.838800</td>\n",
              "      <td>0.283279</td>\n",
              "      <td>0.9210</td>\n",
              "    </tr>\n",
              "    <tr>\n",
              "      <th>1</th>\n",
              "      <td>0.268170</td>\n",
              "      <td>0.921473</td>\n",
              "      <td>0.223700</td>\n",
              "      <td>0.9358</td>\n",
              "    </tr>\n",
              "    <tr>\n",
              "      <th>2</th>\n",
              "      <td>0.212388</td>\n",
              "      <td>0.938145</td>\n",
              "      <td>0.186594</td>\n",
              "      <td>0.9460</td>\n",
              "    </tr>\n",
              "    <tr>\n",
              "      <th>3</th>\n",
              "      <td>0.174615</td>\n",
              "      <td>0.950073</td>\n",
              "      <td>0.151462</td>\n",
              "      <td>0.9594</td>\n",
              "    </tr>\n",
              "    <tr>\n",
              "      <th>4</th>\n",
              "      <td>0.147503</td>\n",
              "      <td>0.957236</td>\n",
              "      <td>0.132315</td>\n",
              "      <td>0.9626</td>\n",
              "    </tr>\n",
              "    <tr>\n",
              "      <th>5</th>\n",
              "      <td>0.127189</td>\n",
              "      <td>0.963345</td>\n",
              "      <td>0.123158</td>\n",
              "      <td>0.9664</td>\n",
              "    </tr>\n",
              "    <tr>\n",
              "      <th>6</th>\n",
              "      <td>0.111010</td>\n",
              "      <td>0.968164</td>\n",
              "      <td>0.119636</td>\n",
              "      <td>0.9666</td>\n",
              "    </tr>\n",
              "    <tr>\n",
              "      <th>7</th>\n",
              "      <td>0.097868</td>\n",
              "      <td>0.971982</td>\n",
              "      <td>0.105216</td>\n",
              "      <td>0.9686</td>\n",
              "    </tr>\n",
              "    <tr>\n",
              "      <th>8</th>\n",
              "      <td>0.086612</td>\n",
              "      <td>0.974855</td>\n",
              "      <td>0.092362</td>\n",
              "      <td>0.9742</td>\n",
              "    </tr>\n",
              "    <tr>\n",
              "      <th>9</th>\n",
              "      <td>0.078165</td>\n",
              "      <td>0.977600</td>\n",
              "      <td>0.089682</td>\n",
              "      <td>0.9750</td>\n",
              "    </tr>\n",
              "    <tr>\n",
              "      <th>10</th>\n",
              "      <td>0.070439</td>\n",
              "      <td>0.980327</td>\n",
              "      <td>0.084464</td>\n",
              "      <td>0.9758</td>\n",
              "    </tr>\n",
              "    <tr>\n",
              "      <th>11</th>\n",
              "      <td>0.063376</td>\n",
              "      <td>0.981509</td>\n",
              "      <td>0.080985</td>\n",
              "      <td>0.9772</td>\n",
              "    </tr>\n",
              "    <tr>\n",
              "      <th>12</th>\n",
              "      <td>0.058049</td>\n",
              "      <td>0.983836</td>\n",
              "      <td>0.077083</td>\n",
              "      <td>0.9766</td>\n",
              "    </tr>\n",
              "    <tr>\n",
              "      <th>13</th>\n",
              "      <td>0.053023</td>\n",
              "      <td>0.984745</td>\n",
              "      <td>0.076981</td>\n",
              "      <td>0.9788</td>\n",
              "    </tr>\n",
              "    <tr>\n",
              "      <th>14</th>\n",
              "      <td>0.047909</td>\n",
              "      <td>0.986509</td>\n",
              "      <td>0.073711</td>\n",
              "      <td>0.9784</td>\n",
              "    </tr>\n",
              "    <tr>\n",
              "      <th>15</th>\n",
              "      <td>0.043577</td>\n",
              "      <td>0.987891</td>\n",
              "      <td>0.073330</td>\n",
              "      <td>0.9784</td>\n",
              "    </tr>\n",
              "    <tr>\n",
              "      <th>16</th>\n",
              "      <td>0.040454</td>\n",
              "      <td>0.988927</td>\n",
              "      <td>0.077452</td>\n",
              "      <td>0.9786</td>\n",
              "    </tr>\n",
              "    <tr>\n",
              "      <th>17</th>\n",
              "      <td>0.036298</td>\n",
              "      <td>0.990127</td>\n",
              "      <td>0.070971</td>\n",
              "      <td>0.9794</td>\n",
              "    </tr>\n",
              "    <tr>\n",
              "      <th>18</th>\n",
              "      <td>0.032890</td>\n",
              "      <td>0.991164</td>\n",
              "      <td>0.068038</td>\n",
              "      <td>0.9810</td>\n",
              "    </tr>\n",
              "    <tr>\n",
              "      <th>19</th>\n",
              "      <td>0.029997</td>\n",
              "      <td>0.992055</td>\n",
              "      <td>0.068619</td>\n",
              "      <td>0.9802</td>\n",
              "    </tr>\n",
              "    <tr>\n",
              "      <th>20</th>\n",
              "      <td>0.027467</td>\n",
              "      <td>0.993455</td>\n",
              "      <td>0.065566</td>\n",
              "      <td>0.9818</td>\n",
              "    </tr>\n",
              "    <tr>\n",
              "      <th>21</th>\n",
              "      <td>0.024959</td>\n",
              "      <td>0.994073</td>\n",
              "      <td>0.067860</td>\n",
              "      <td>0.9794</td>\n",
              "    </tr>\n",
              "    <tr>\n",
              "      <th>22</th>\n",
              "      <td>0.022971</td>\n",
              "      <td>0.994709</td>\n",
              "      <td>0.067997</td>\n",
              "      <td>0.9812</td>\n",
              "    </tr>\n",
              "    <tr>\n",
              "      <th>23</th>\n",
              "      <td>0.021210</td>\n",
              "      <td>0.995182</td>\n",
              "      <td>0.067165</td>\n",
              "      <td>0.9818</td>\n",
              "    </tr>\n",
              "    <tr>\n",
              "      <th>24</th>\n",
              "      <td>0.019099</td>\n",
              "      <td>0.996000</td>\n",
              "      <td>0.065763</td>\n",
              "      <td>0.9822</td>\n",
              "    </tr>\n",
              "    <tr>\n",
              "      <th>25</th>\n",
              "      <td>0.017375</td>\n",
              "      <td>0.996509</td>\n",
              "      <td>0.065973</td>\n",
              "      <td>0.9800</td>\n",
              "    </tr>\n",
              "    <tr>\n",
              "      <th>26</th>\n",
              "      <td>0.016030</td>\n",
              "      <td>0.996691</td>\n",
              "      <td>0.063938</td>\n",
              "      <td>0.9812</td>\n",
              "    </tr>\n",
              "    <tr>\n",
              "      <th>27</th>\n",
              "      <td>0.014472</td>\n",
              "      <td>0.997436</td>\n",
              "      <td>0.067368</td>\n",
              "      <td>0.9810</td>\n",
              "    </tr>\n",
              "    <tr>\n",
              "      <th>28</th>\n",
              "      <td>0.013112</td>\n",
              "      <td>0.997891</td>\n",
              "      <td>0.066352</td>\n",
              "      <td>0.9822</td>\n",
              "    </tr>\n",
              "    <tr>\n",
              "      <th>29</th>\n",
              "      <td>0.012080</td>\n",
              "      <td>0.998145</td>\n",
              "      <td>0.066564</td>\n",
              "      <td>0.9822</td>\n",
              "    </tr>\n",
              "  </tbody>\n",
              "</table>\n",
              "</div>"
            ],
            "text/plain": [
              "        loss  accuracy  val_loss  val_accuracy\n",
              "0   0.614263  0.838800  0.283279        0.9210\n",
              "1   0.268170  0.921473  0.223700        0.9358\n",
              "2   0.212388  0.938145  0.186594        0.9460\n",
              "3   0.174615  0.950073  0.151462        0.9594\n",
              "4   0.147503  0.957236  0.132315        0.9626\n",
              "5   0.127189  0.963345  0.123158        0.9664\n",
              "6   0.111010  0.968164  0.119636        0.9666\n",
              "7   0.097868  0.971982  0.105216        0.9686\n",
              "8   0.086612  0.974855  0.092362        0.9742\n",
              "9   0.078165  0.977600  0.089682        0.9750\n",
              "10  0.070439  0.980327  0.084464        0.9758\n",
              "11  0.063376  0.981509  0.080985        0.9772\n",
              "12  0.058049  0.983836  0.077083        0.9766\n",
              "13  0.053023  0.984745  0.076981        0.9788\n",
              "14  0.047909  0.986509  0.073711        0.9784\n",
              "15  0.043577  0.987891  0.073330        0.9784\n",
              "16  0.040454  0.988927  0.077452        0.9786\n",
              "17  0.036298  0.990127  0.070971        0.9794\n",
              "18  0.032890  0.991164  0.068038        0.9810\n",
              "19  0.029997  0.992055  0.068619        0.9802\n",
              "20  0.027467  0.993455  0.065566        0.9818\n",
              "21  0.024959  0.994073  0.067860        0.9794\n",
              "22  0.022971  0.994709  0.067997        0.9812\n",
              "23  0.021210  0.995182  0.067165        0.9818\n",
              "24  0.019099  0.996000  0.065763        0.9822\n",
              "25  0.017375  0.996509  0.065973        0.9800\n",
              "26  0.016030  0.996691  0.063938        0.9812\n",
              "27  0.014472  0.997436  0.067368        0.9810\n",
              "28  0.013112  0.997891  0.066352        0.9822\n",
              "29  0.012080  0.998145  0.066564        0.9822"
            ]
          },
          "metadata": {
            "tags": []
          },
          "execution_count": 28
        }
      ]
    },
    {
      "cell_type": "code",
      "metadata": {
        "colab": {
          "base_uri": "https://localhost:8080/",
          "height": 378
        },
        "id": "-ipesnaigkI8",
        "outputId": "8743975b-8b12-4e19-9ff1-54280fddc1ce"
      },
      "source": [
        "pd.DataFrame(history.history).plot(figsize=(6,6))\r\n",
        "plt.grid(True)\r\n",
        "plt.gca().set_ylim(0,1)\r\n",
        "plt.show()"
      ],
      "execution_count": null,
      "outputs": [
        {
          "output_type": "display_data",
          "data": {
            "image/png": "[encoded data removed]",
            "text/plain": [
              "<Figure size 432x432 with 1 Axes>"
            ]
          },
          "metadata": {
            "tags": [],
            "needs_background": "light"
          }
        }
      ]
    },
    {
      "cell_type": "code",
      "metadata": {
        "colab": {
          "base_uri": "https://localhost:8080/"
        },
        "id": "Lurt64y_h_uj",
        "outputId": "fdcf3a5b-793d-4bd9-ba1b-2916919ab496"
      },
      "source": [
        "model_clf.evaluate(x_test,y_test)"
      ],
      "execution_count": null,
      "outputs": [
        {
          "output_type": "stream",
          "text": [
            "313/313 [==============================] - 1s 2ms/step - loss: 0.0734 - accuracy: 0.9782\n"
          ],
          "name": "stdout"
        },
        {
          "output_type": "execute_result",
          "data": {
            "text/plain": [
              "[0.07336996495723724, 0.9782000184059143]"
            ]
          },
          "metadata": {
            "tags": []
          },
          "execution_count": 30
        }
      ]
    },
    {
      "cell_type": "code",
      "metadata": {
        "colab": {
          "base_uri": "https://localhost:8080/"
        },
        "id": "kVscvrtAPS7N",
        "outputId": "b3b54912-9225-42c3-f4ca-11fb82844e64"
      },
      "source": [
        "x_new=x_test[:3]\r\n",
        "x_new"
      ],
      "execution_count": null,
      "outputs": [
        {
          "output_type": "execute_result",
          "data": {
            "text/plain": [
              "array([[[0., 0., 0., ..., 0., 0., 0.],\n",
              "        [0., 0., 0., ..., 0., 0., 0.],\n",
              "        [0., 0., 0., ..., 0., 0., 0.],\n",
              "        ...,\n",
              "        [0., 0., 0., ..., 0., 0., 0.],\n",
              "        [0., 0., 0., ..., 0., 0., 0.],\n",
              "        [0., 0., 0., ..., 0., 0., 0.]],\n",
              "\n",
              "       [[0., 0., 0., ..., 0., 0., 0.],\n",
              "        [0., 0., 0., ..., 0., 0., 0.],\n",
              "        [0., 0., 0., ..., 0., 0., 0.],\n",
              "        ...,\n",
              "        [0., 0., 0., ..., 0., 0., 0.],\n",
              "        [0., 0., 0., ..., 0., 0., 0.],\n",
              "        [0., 0., 0., ..., 0., 0., 0.]],\n",
              "\n",
              "       [[0., 0., 0., ..., 0., 0., 0.],\n",
              "        [0., 0., 0., ..., 0., 0., 0.],\n",
              "        [0., 0., 0., ..., 0., 0., 0.],\n",
              "        ...,\n",
              "        [0., 0., 0., ..., 0., 0., 0.],\n",
              "        [0., 0., 0., ..., 0., 0., 0.],\n",
              "        [0., 0., 0., ..., 0., 0., 0.]]])"
            ]
          },
          "metadata": {
            "tags": []
          },
          "execution_count": 30
        }
      ]
    },
    {
      "cell_type": "code",
      "metadata": {
        "id": "uF9_b_OKhofT",
        "colab": {
          "base_uri": "https://localhost:8080/"
        },
        "outputId": "a1998366-91b2-4208-ff0a-365f18409a8d"
      },
      "source": [
        "x_new=x_test[:3]\r\n",
        "y_prob=model_clf.predict(x_new)\r\n",
        "y_prob.round(2)"
      ],
      "execution_count": null,
      "outputs": [
        {
          "output_type": "execute_result",
          "data": {
            "text/plain": [
              "array([[0., 0., 0., 0., 0., 0., 0., 1., 0., 0.],\n",
              "       [0., 0., 1., 0., 0., 0., 0., 0., 0., 0.],\n",
              "       [0., 1., 0., 0., 0., 0., 0., 0., 0., 0.]], dtype=float32)"
            ]
          },
          "metadata": {
            "tags": []
          },
          "execution_count": 32
        }
      ]
    },
    {
      "cell_type": "code",
      "metadata": {
        "id": "XcmUEJ2mhpcH",
        "colab": {
          "base_uri": "https://localhost:8080/"
        },
        "outputId": "6c473968-f4ee-44a6-a2bf-550e9729a686"
      },
      "source": [
        "y_pred=np.argmax(model_clf.predict(x_new),axis=-1)\r\n",
        "y_pred"
      ],
      "execution_count": null,
      "outputs": [
        {
          "output_type": "execute_result",
          "data": {
            "text/plain": [
              "array([7, 2, 1])"
            ]
          },
          "metadata": {
            "tags": []
          },
          "execution_count": 36
        }
      ]
    },
    {
      "cell_type": "code",
      "metadata": {
        "id": "ZJW5RQXr026U"
      },
      "source": [
        "y_new=y_test[:3]"
      ],
      "execution_count": null,
      "outputs": []
    },
    {
      "cell_type": "code",
      "metadata": {
        "colab": {
          "base_uri": "https://localhost:8080/",
          "height": 829
        },
        "id": "XJs877ZL1QgO",
        "outputId": "d3432192-e334-481c-e1d3-6cb4676d637c"
      },
      "source": [
        "for data,pred,actual in zip(x_new,y_pred,y_new):\r\n",
        "  plt.imshow(data,cmap='binary')\r\n",
        "  plt.title(f\"Predicted value:{pred} Actual Value:{actual}\")\r\n",
        "  plt.axis(\"off\")\r\n",
        "  plt.show()\r\n",
        "  print(\"--------\"*20)"
      ],
      "execution_count": null,
      "outputs": [
        {
          "output_type": "display_data",
          "data": {
            "image/png": "[encoded data removed]",
            "text/plain": [
              "<Figure size 432x288 with 1 Axes>"
            ]
          },
          "metadata": {
            "tags": [],
            "needs_background": "light"
          }
        },
        {
          "output_type": "stream",
          "text": [
            "----------------------------------------------------------------------------------------------------------------------------------------------------------------\n"
          ],
          "name": "stdout"
        },
        {
          "output_type": "display_data",
          "data": {
            "image/png": "[encoded data removed]",
            "text/plain": [
              "<Figure size 432x288 with 1 Axes>"
            ]
          },
          "metadata": {
            "tags": [],
            "needs_background": "light"
          }
        },
        {
          "output_type": "stream",
          "text": [
            "----------------------------------------------------------------------------------------------------------------------------------------------------------------\n"
          ],
          "name": "stdout"
        },
        {
          "output_type": "display_data",
          "data": {
            "image/png": "[encoded data removed]",
            "text/plain": [
              "<Figure size 432x288 with 1 Axes>"
            ]
          },
          "metadata": {
            "tags": [],
            "needs_background": "light"
          }
        },
        {
          "output_type": "stream",
          "text": [
            "----------------------------------------------------------------------------------------------------------------------------------------------------------------\n"
          ],
          "name": "stdout"
        }
      ]
    },
    {
      "cell_type": "code",
      "metadata": {
        "id": "009PhfgeD9wD"
      },
      "source": [
        "y_pred=np.argmax(model_clf.predict(x_test),axis=-1)"
      ],
      "execution_count": null,
      "outputs": []
    },
    {
      "cell_type": "code",
      "metadata": {
        "id": "ygW5rImlFtZh"
      },
      "source": [
        "from sklearn.metrics import accuracy_score\r\n",
        "sc=accuracy_score(y_pred,y_test)\r\n",
        "sc"
      ],
      "execution_count": null,
      "outputs": []
    },
    {
      "cell_type": "code",
      "metadata": {
        "id": "Odsux2njJpPH"
      },
      "source": [
        ""
      ],
      "execution_count": null,
      "outputs": []
    }
  ]
}